{
 "cells": [
  {
   "cell_type": "code",
   "execution_count": 1,
   "metadata": {},
   "outputs": [],
   "source": [
    "import os\n",
    "import polars as pl\n",
    "from matplotlib import pyplot as plt\n",
    "import numpy as np\n",
    "from ase.data import chemical_symbols\n",
    "from ase.atoms import Atoms\n",
    "from ase.calculators import SinglePointCalculator\n",
    "from ase.visualize import view\n",
    "from fairchem.core.datasets import LmdbDataset\n",
    "from fairchem.core.common.relaxation.ase_utils import batch_to_atoms"
   ]
  },
  {
   "cell_type": "code",
   "execution_count": 5,
   "metadata": {},
   "outputs": [],
   "source": [
    "# i want to save this dataframe to a single csv file\n",
    "\n",
    "df.write_csv('data/saa_model_predictions/prediction_dataframe.csv')"
   ]
  },
  {
   "cell_type": "code",
   "execution_count": 71,
   "metadata": {},
   "outputs": [],
   "source": [
    "# I want to load this csv file back into a dataframe\n",
    "df = pl.read_csv('data/saa_model_predictions/prediction_dataframe.csv')"
   ]
  },
  {
   "cell_type": "code",
   "execution_count": 1,
   "metadata": {},
   "outputs": [
    {
     "ename": "NameError",
     "evalue": "name 'np' is not defined",
     "output_type": "error",
     "traceback": [
      "\u001b[0;31m---------------------------------------------------------------------------\u001b[0m",
      "\u001b[0;31mNameError\u001b[0m                                 Traceback (most recent call last)",
      "Cell \u001b[0;32mIn[1], line 6\u001b[0m\n\u001b[1;32m      1\u001b[0m \u001b[38;5;66;03m# I want to compare the \"ground_truth_energy\" column values with\u001b[39;00m\n\u001b[1;32m      2\u001b[0m \u001b[38;5;66;03m# the values in the other columns. So I want to create parity plots\u001b[39;00m\n\u001b[1;32m      3\u001b[0m \u001b[38;5;66;03m# For each column in the dataframe.\u001b[39;00m\n\u001b[1;32m      4\u001b[0m \n\u001b[1;32m      5\u001b[0m \u001b[38;5;66;03m# First I will extract the values of the \"ground_truth_energy\" column into a list\u001b[39;00m\n\u001b[0;32m----> 6\u001b[0m ground_truth \u001b[38;5;241m=\u001b[39m \u001b[43mnp\u001b[49m\u001b[38;5;241m.\u001b[39marray(df[\u001b[38;5;124m'\u001b[39m\u001b[38;5;124mground_truth_energy\u001b[39m\u001b[38;5;124m'\u001b[39m]\u001b[38;5;241m.\u001b[39mto_list())\n\u001b[1;32m      8\u001b[0m \u001b[38;5;66;03m# Now I want to loop through each column that isn't the \"ground_truth_energy\" column\u001b[39;00m\n\u001b[1;32m     10\u001b[0m \u001b[38;5;28;01mfor\u001b[39;00m column \u001b[38;5;129;01min\u001b[39;00m df\u001b[38;5;241m.\u001b[39mcolumns:\n",
      "\u001b[0;31mNameError\u001b[0m: name 'np' is not defined"
     ]
    }
   ],
   "source": [
    "# I want to compare the \"ground_truth_energy\" column values with\n",
    "# the values in the other columns. So I want to create parity plots\n",
    "# For each column in the dataframe.\n",
    "\n",
    "# First I will extract the values of the \"ground_truth_energy\" column into a list\n",
    "ground_truth = np.array(df['ground_truth_energy'].to_list())\n",
    "\n",
    "# Now I want to loop through each column that isn't the \"ground_truth_energy\" column\n",
    "\n",
    "for column in df.columns:\n",
    "    if column != 'ground_truth_energy' and column != 'dopant':\n",
    "\n",
    "        # I will extract the column values into a list\n",
    "        predicted_energies = np.array(df[column].to_list())\n",
    "        slope, intercept = np.polyfit(x=ground_truth, y=predicted_energies, deg=1)\n",
    "        regression_line = slope * ground_truth + intercept\n",
    "        # I will create a scatter plot of the ground truth values vs the column values\n",
    "        plt.scatter(ground_truth, regression_line, color='#1f77b4')\n",
    "\n",
    "        # I want the y-axis label to be horizontal but padded so it doesn't block the axis\n",
    "\n",
    "        plt.xlabel('Ground Truth Energy')\n",
    "        plt.ylabel(column, rotation=0, labelpad=40)\n",
    "        plt.title(f'Parity Plot of {column} vs Ground Truth Energy')\n",
    "\n",
    "        # want a dashed line at y=x\n",
    "        # plt.plot([min(ground_truth), max(ground_truth)], [min(ground_truth), max(ground_truth)], 'k--', lw=2)\n",
    "\n",
    "        # I only want to plot the end points of the regression line\n",
    "        plt.plot([min(ground_truth), max(ground_truth)], [min(regression_line), max(regression_line)], color='black', linestyle='--')\n",
    "\n",
    "        plt.show()"
   ]
  },
  {
   "cell_type": "code",
   "execution_count": 3,
   "metadata": {},
   "outputs": [],
   "source": [
    "df = pl.read_csv('data/saa_model_predictions/prediction_dataframe.csv')"
   ]
  },
  {
   "cell_type": "code",
   "execution_count": 4,
   "metadata": {},
   "outputs": [
    {
     "name": "stdout",
     "output_type": "stream",
     "text": [
      "shape: (22, 1)\n",
      "┌──────────────┐\n",
      "│ painn_energy │\n",
      "│ ---          │\n",
      "│ f64          │\n",
      "╞══════════════╡\n",
      "│ 0.202088     │\n",
      "│ 0.160861     │\n",
      "│ 0.176961     │\n",
      "│ 0.178462     │\n",
      "│ 0.147144     │\n",
      "│ …            │\n",
      "│ 0.16904      │\n",
      "│ 0.190368     │\n",
      "│ 0.186852     │\n",
      "│ 0.171742     │\n",
      "│ 0.211037     │\n",
      "└──────────────┘\n"
     ]
    }
   ],
   "source": [
    "# Columns to exclude\n",
    "exclude_cols = [\"ground_truth_energy\", \"dopant\"]\n",
    "\n",
    "# Select all columns except the excluded ones\n",
    "included_cols = df.select(pl.exclude(exclude_cols)).columns\n",
    "\n",
    "print(df.select(pl.concat_list(included_cols).list.std()))\n",
    "\n",
    "# Add a new column with the row-wise average and standard deviation\n",
    "df_with_avg = df.with_columns(\n",
    "    pl.DataFrame({\"prediction_average\": df.select(pl.mean_horizontal(included_cols)),\n",
    "                  \"prediction_std\": df.select(pl.concat_list(included_cols).list.std())})\n",
    ")"
   ]
  },
  {
   "cell_type": "code",
   "execution_count": 5,
   "metadata": {},
   "outputs": [
    {
     "name": "stdout",
     "output_type": "stream",
     "text": [
      "shape: (22, 9)\n",
      "┌────────┬────────────┬────────────┬───────────┬───┬───────────┬───────────┬───────────┬───────────┐\n",
      "│ dopant ┆ ground_tru ┆ painn_ener ┆ scn_energ ┆ … ┆ gemnet_dt ┆ schnet_en ┆ predictio ┆ predictio │\n",
      "│ ---    ┆ th_energy  ┆ gy         ┆ y         ┆   ┆ _energy   ┆ ergy      ┆ n_average ┆ n_std     │\n",
      "│ str    ┆ ---        ┆ ---        ┆ ---       ┆   ┆ ---       ┆ ---       ┆ ---       ┆ ---       │\n",
      "│        ┆ f64        ┆ f64        ┆ f64       ┆   ┆ f64       ┆ f64       ┆ f64       ┆ f64       │\n",
      "╞════════╪════════════╪════════════╪═══════════╪═══╪═══════════╪═══════════╪═══════════╪═══════════╡\n",
      "│ Au     ┆ 0.098136   ┆ 0.203165   ┆ 0.262656  ┆ … ┆ 0.363958  ┆ 0.709146  ┆ 0.36258   ┆ 0.202088  │\n",
      "│ Co     ┆ -0.3403    ┆ -0.19337   ┆ -0.299152 ┆ … ┆ -0.086388 ┆ 0.061191  ┆ -0.169692 ┆ 0.160861  │\n",
      "│ Cr     ┆ -0.175864  ┆ -0.056166  ┆ -0.196696 ┆ … ┆ 0.055516  ┆ 0.229326  ┆ -0.029422 ┆ 0.176961  │\n",
      "│ Cu     ┆ -0.067714  ┆ 0.082203   ┆ 0.037689  ┆ … ┆ 0.208947  ┆ 0.473687  ┆ 0.175943  ┆ 0.178462  │\n",
      "│ Fe     ┆ -0.239582  ┆ -0.106512  ┆ -0.309567 ┆ … ┆ -0.109212 ┆ 0.009076  ┆ -0.170308 ┆ 0.147144  │\n",
      "│ …      ┆ …          ┆ …          ┆ …         ┆ … ┆ …         ┆ …         ┆ …         ┆ …         │\n",
      "│ Tc     ┆ -0.600419  ┆ -0.387005  ┆ -0.40675  ┆ … ┆ -0.31703  ┆ -0.024541 ┆ -0.31562  ┆ 0.16904   │\n",
      "│ Ti     ┆ -0.301597  ┆ -0.291473  ┆ -0.16468  ┆ … ┆ -0.06844  ┆ 0.183545  ┆ -0.119605 ┆ 0.190368  │\n",
      "│ V      ┆ -0.269595  ┆ -0.236157  ┆ -0.207994 ┆ … ┆ -0.00641  ┆ 0.196381  ┆ -0.093685 ┆ 0.186852  │\n",
      "│ W      ┆ -0.568815  ┆ -0.53421   ┆ -0.43196  ┆ … ┆ -0.369968 ┆ -0.084791 ┆ -0.373543 ┆ 0.171742  │\n",
      "│ Zn     ┆ 0.172363   ┆ 0.280246   ┆ 0.188577  ┆ … ┆ 0.43125   ┆ 0.725741  ┆ 0.381766  ┆ 0.211037  │\n",
      "└────────┴────────────┴────────────┴───────────┴───┴───────────┴───────────┴───────────┴───────────┘\n"
     ]
    }
   ],
   "source": [
    "print(df_with_avg)"
   ]
  },
  {
   "cell_type": "code",
   "execution_count": 24,
   "metadata": {},
   "outputs": [
    {
     "data": {
      "image/png": "[encoded data removed]",
      "text/plain": [
       "<Figure size 640x480 with 1 Axes>"
      ]
     },
     "metadata": {},
     "output_type": "display_data"
    }
   ],
   "source": [
    "# Using the \"ground_truth_energy\" column, the \"prediction_average\" column, and the \"prediction_std\" column,\n",
    "# I want to create a parity plot with the \"ground_truth_energy\" column on the x-axis and the \"prediction_average\"\n",
    "# column on the y-axis. I want to create error bars using the \"prediction_std\" column.\n",
    "\n",
    "ground_truth = np.array(df_with_avg['ground_truth_energy'].to_list())\n",
    "std_dev = df_with_avg['prediction_std'].to_list()\n",
    "average = df_with_avg['prediction_average'].to_list()\n",
    "\n",
    "slope, intercept = np.polyfit(x=ground_truth, y=average, deg=1)\n",
    "y_scaled = [slope * y + intercept for y in average]\n",
    "std_dev_scaled = [sd * slope for sd in std_dev]\n",
    "\n",
    "plt.errorbar(ground_truth, y_scaled, yerr=std_dev_scaled, fmt='o', color='#1f77b4', ecolor='black', capsize=5)\n",
    "plt.xlabel('Ground Truth Energy')\n",
    "plt.ylabel('Prediction Average', rotation=0, labelpad=40)\n",
    "plt.plot([min(ground_truth), max(ground_truth)], [min(y_scaled), max(y_scaled)], color='black', linestyle='--')\n",
    "\n",
    "plt.show()\n",
    "\n",
    "\n",
    "        \n",
    "        "
   ]
  },
  {
   "cell_type": "code",
   "execution_count": null,
   "metadata": {},
   "outputs": [],
   "source": []
  }
 ],
 "metadata": {
  "kernelspec": {
   "display_name": ".venv",
   "language": "python",
   "name": "python3"
  },
  "language_info": {
   "codemirror_mode": {
    "name": "ipython",
    "version": 3
   },
   "file_extension": ".py",
   "mimetype": "text/x-python",
   "name": "python",
   "nbconvert_exporter": "python",
   "pygments_lexer": "ipython3",
   "version": "3.11.4"
  }
 },
 "nbformat": 4,
 "nbformat_minor": 2
}
