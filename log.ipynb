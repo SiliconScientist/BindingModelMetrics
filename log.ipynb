{
 "cells": [
  {
   "cell_type": "code",
   "execution_count": 2,
   "metadata": {},
   "outputs": [],
   "source": [
    "import os\n",
    "import polars as pl\n",
    "from matplotlib import pyplot as plt\n",
    "import numpy as np\n",
    "import torch\n",
    "from ase.data import chemical_symbols\n",
    "from ase.atoms import Atoms\n",
    "from ase.visualize import view\n",
    "from fairchem.core.datasets import LmdbDataset\n",
    "from fairchem.core.common.relaxation.ase_utils import batch_to_atoms\n",
    "from torch_geometric.nn.models.schnet import SchNet"
   ]
  },
  {
   "cell_type": "code",
   "execution_count": 3,
   "metadata": {},
   "outputs": [
    {
     "name": "stderr",
     "output_type": "stream",
     "text": [
      "/var/folders/yf/g4qx_p5929jcvzyg7pwr1rww0000gn/T/ipykernel_31615/1188474524.py:1: FutureWarning: You are using `torch.load` with `weights_only=False` (the current default value), which uses the default pickle module implicitly. It is possible to construct malicious pickle data which will execute arbitrary code during unpickling (See https://github.com/pytorch/pytorch/blob/main/SECURITY.md#untrusted-models for more details). In a future release, the default value for `weights_only` will be flipped to `True`. This limits the functions that could be executed during unpickling. Arbitrary objects will no longer be allowed to be loaded via this mode unless they are explicitly allowlisted by the user via `torch.serialization.add_safe_globals`. We recommend you start setting `weights_only=True` for any use case where you don't have full control of the loaded file. Please open an issue on GitHub for any issues related to this experimental feature.\n",
      "  state_dict = torch.load('/Users/averyhill/Github/BindingModelMetrics/models/schnet_all_large.pt', map_location='cpu')\n"
     ]
    },
    {
     "data": {
      "text/plain": [
       "{'task': {'dataset': 'trajectory_lmdb',\n",
       "  'description': 'Regressing to energies and forces for DFT trajectories from OCP',\n",
       "  'type': 'regression',\n",
       "  'metric': 'mae',\n",
       "  'labels': ['potential energy'],\n",
       "  'grad_input': 'atomic forces',\n",
       "  'train_on_free_atoms': True,\n",
       "  'eval_on_free_atoms': True},\n",
       " 'model': 'schnet',\n",
       " 'model_attributes': {'hidden_channels': 1024,\n",
       "  'num_filters': 256,\n",
       "  'num_interactions': 5,\n",
       "  'num_gaussians': 200,\n",
       "  'cutoff': 6.0,\n",
       "  'use_pbc': True},\n",
       " 'optim': {'batch_size': 20,\n",
       "  'eval_batch_size': 8,\n",
       "  'eval_every': -10000,\n",
       "  'num_workers': 64,\n",
       "  'lr_initial': 0.0001,\n",
       "  'lr_gamma': 0.1,\n",
       "  'lr_milestones': [313905, 523176, 732446],\n",
       "  'warmup_factor': 0.2,\n",
       "  'max_epochs': 15,\n",
       "  'force_coefficient': 30,\n",
       "  'warmup_steps': 209270},\n",
       " 'logger': 'tensorboard',\n",
       " 'amp': False,\n",
       " 'cmd': {'identifier': 'schnet_all_large',\n",
       "  'print_every': 10,\n",
       "  'seed': 1,\n",
       "  'timestamp': '2020-10-09-06-00-35-schnet_all_large',\n",
       "  'checkpoint_dir': './checkpoints/2020-10-09-06-00-35-schnet_all_large',\n",
       "  'results_dir': './results/2020-10-09-06-00-35-schnet_all_large',\n",
       "  'logs_dir': './logs/tensorboard/2020-10-09-06-00-35-schnet_all_large'},\n",
       " 'dataset': {'src': '/checkpoint/electrocatalysis/relaxations/features/struct_to_energy_forces/train/all/',\n",
       "  'normalize_labels': True,\n",
       "  'target_mean': -0.7554450631141663,\n",
       "  'target_std': 2.887317180633545,\n",
       "  'grad_target_mean': 0.0,\n",
       "  'grad_target_std': 2.887317180633545},\n",
       " 'val_dataset': {'src': '/checkpoint/electrocatalysis/relaxations/features/struct_to_energy_forces/val/is_30000/'}}"
      ]
     },
     "execution_count": 3,
     "metadata": {},
     "output_type": "execute_result"
    }
   ],
   "source": [
    "state_dict = torch.load('/Users/averyhill/Github/BindingModelMetrics/models/schnet_all_large.pt', map_location='cpu')\n",
    "state_dict['config']"
   ]
  },
  {
   "cell_type": "code",
   "execution_count": null,
   "metadata": {},
   "outputs": [],
   "source": []
  }
 ],
 "metadata": {
  "kernelspec": {
   "display_name": ".venv",
   "language": "python",
   "name": "python3"
  },
  "language_info": {
   "codemirror_mode": {
    "name": "ipython",
    "version": 3
   },
   "file_extension": ".py",
   "mimetype": "text/x-python",
   "name": "python",
   "nbconvert_exporter": "python",
   "pygments_lexer": "ipython3",
   "version": "3.11.1"
  }
 },
 "nbformat": 4,
 "nbformat_minor": 2
}
